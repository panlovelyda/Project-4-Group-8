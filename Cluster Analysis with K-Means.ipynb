{
 "cells": [
  {
   "cell_type": "code",
   "execution_count": 7,
   "metadata": {},
   "outputs": [],
   "source": [
    "import pandas as pd\n",
    "import numpy as np\n",
    "import matplotlib.pyplot as plt\n",
    "from pathlib import Path"
   ]
  },
  {
   "cell_type": "code",
   "execution_count": 10,
   "metadata": {},
   "outputs": [
    {
     "data": {
      "text/html": [
       "<div>\n",
       "<style scoped>\n",
       "    .dataframe tbody tr th:only-of-type {\n",
       "        vertical-align: middle;\n",
       "    }\n",
       "\n",
       "    .dataframe tbody tr th {\n",
       "        vertical-align: top;\n",
       "    }\n",
       "\n",
       "    .dataframe thead th {\n",
       "        text-align: right;\n",
       "    }\n",
       "</style>\n",
       "<table border=\"1\" class=\"dataframe\">\n",
       "  <thead>\n",
       "    <tr style=\"text-align: right;\">\n",
       "      <th></th>\n",
       "      <th>Record_ID</th>\n",
       "      <th>Auction_ID</th>\n",
       "      <th>Bidder_Tendency</th>\n",
       "      <th>Bidding_Ratio</th>\n",
       "      <th>Successive_Outbidding</th>\n",
       "      <th>Last_Bidding</th>\n",
       "      <th>Auction_Bids</th>\n",
       "      <th>Starting_Price_Average</th>\n",
       "      <th>Early_Bidding</th>\n",
       "      <th>Winning_Ratio</th>\n",
       "      <th>Auction_Duration</th>\n",
       "      <th>Class</th>\n",
       "    </tr>\n",
       "  </thead>\n",
       "  <tbody>\n",
       "    <tr>\n",
       "      <th>0</th>\n",
       "      <td>-1.726424</td>\n",
       "      <td>-0.692374</td>\n",
       "      <td>0.291571</td>\n",
       "      <td>2.070638</td>\n",
       "      <td>-0.371076</td>\n",
       "      <td>-1.218447</td>\n",
       "      <td>-0.907433</td>\n",
       "      <td>1.063074</td>\n",
       "      <td>-1.131055</td>\n",
       "      <td>0.684785</td>\n",
       "      <td>0.156058</td>\n",
       "      <td>-0.345765</td>\n",
       "    </tr>\n",
       "    <tr>\n",
       "      <th>1</th>\n",
       "      <td>-1.726195</td>\n",
       "      <td>-0.692374</td>\n",
       "      <td>-0.599542</td>\n",
       "      <td>0.549957</td>\n",
       "      <td>-0.371076</td>\n",
       "      <td>-1.183993</td>\n",
       "      <td>-0.907433</td>\n",
       "      <td>1.063074</td>\n",
       "      <td>-1.096663</td>\n",
       "      <td>1.321104</td>\n",
       "      <td>0.156058</td>\n",
       "      <td>-0.345765</td>\n",
       "    </tr>\n",
       "    <tr>\n",
       "      <th>2</th>\n",
       "      <td>-1.725966</td>\n",
       "      <td>-0.692374</td>\n",
       "      <td>0.001606</td>\n",
       "      <td>0.549957</td>\n",
       "      <td>-0.371076</td>\n",
       "      <td>-1.210517</td>\n",
       "      <td>-0.907433</td>\n",
       "      <td>1.063074</td>\n",
       "      <td>-1.123139</td>\n",
       "      <td>1.448368</td>\n",
       "      <td>0.156058</td>\n",
       "      <td>-0.345765</td>\n",
       "    </tr>\n",
       "    <tr>\n",
       "      <th>3</th>\n",
       "      <td>-1.725737</td>\n",
       "      <td>-0.692374</td>\n",
       "      <td>-0.215868</td>\n",
       "      <td>0.549957</td>\n",
       "      <td>-0.371076</td>\n",
       "      <td>-0.962047</td>\n",
       "      <td>-0.907433</td>\n",
       "      <td>1.063074</td>\n",
       "      <td>-0.875118</td>\n",
       "      <td>1.448368</td>\n",
       "      <td>0.156058</td>\n",
       "      <td>-0.345765</td>\n",
       "    </tr>\n",
       "    <tr>\n",
       "      <th>4</th>\n",
       "      <td>-1.725508</td>\n",
       "      <td>-0.464024</td>\n",
       "      <td>-0.463082</td>\n",
       "      <td>0.718921</td>\n",
       "      <td>-0.371076</td>\n",
       "      <td>-1.215053</td>\n",
       "      <td>-0.907433</td>\n",
       "      <td>-0.965191</td>\n",
       "      <td>-1.127866</td>\n",
       "      <td>0.302994</td>\n",
       "      <td>0.966946</td>\n",
       "      <td>-0.345765</td>\n",
       "    </tr>\n",
       "  </tbody>\n",
       "</table>\n",
       "</div>"
      ],
      "text/plain": [
       "   Record_ID  Auction_ID  Bidder_Tendency  Bidding_Ratio  \\\n",
       "0  -1.726424   -0.692374         0.291571       2.070638   \n",
       "1  -1.726195   -0.692374        -0.599542       0.549957   \n",
       "2  -1.725966   -0.692374         0.001606       0.549957   \n",
       "3  -1.725737   -0.692374        -0.215868       0.549957   \n",
       "4  -1.725508   -0.464024        -0.463082       0.718921   \n",
       "\n",
       "   Successive_Outbidding  Last_Bidding  Auction_Bids  Starting_Price_Average  \\\n",
       "0              -0.371076     -1.218447     -0.907433                1.063074   \n",
       "1              -0.371076     -1.183993     -0.907433                1.063074   \n",
       "2              -0.371076     -1.210517     -0.907433                1.063074   \n",
       "3              -0.371076     -0.962047     -0.907433                1.063074   \n",
       "4              -0.371076     -1.215053     -0.907433               -0.965191   \n",
       "\n",
       "   Early_Bidding  Winning_Ratio  Auction_Duration     Class  \n",
       "0      -1.131055       0.684785          0.156058 -0.345765  \n",
       "1      -1.096663       1.321104          0.156058 -0.345765  \n",
       "2      -1.123139       1.448368          0.156058 -0.345765  \n",
       "3      -0.875118       1.448368          0.156058 -0.345765  \n",
       "4      -1.127866       0.302994          0.966946 -0.345765  "
      ]
     },
     "execution_count": 10,
     "metadata": {},
     "output_type": "execute_result"
    }
   ],
   "source": [
    "file = Path ('Shill Bidding Dataset.csv')\n",
    "df = pd.read_csv(file)\n",
    "\n",
    "classes = df['Bidder_ID']\n",
    "df1=df.drop(['Bidder_ID'], axis=1)\n",
    "\n",
    "from sklearn.preprocessing import StandardScaler\n",
    "\n",
    "scaler = StandardScaler()\n",
    "scaler_data = scaler.fit_transform(df1)\n",
    "\n",
    "new_df1 = pd.DataFrame(scaler_data, columns=df1.columns)\n",
    "new_df1.head()\n"
   ]
  },
  {
   "cell_type": "code",
   "execution_count": 11,
   "metadata": {},
   "outputs": [
    {
     "data": {
      "text/plain": [
       "(6321, 12)"
      ]
     },
     "execution_count": 11,
     "metadata": {},
     "output_type": "execute_result"
    }
   ],
   "source": [
    "new_df1.shape"
   ]
  },
  {
   "cell_type": "code",
   "execution_count": 12,
   "metadata": {},
   "outputs": [
    {
     "data": {
      "text/plain": [
       "(6321, 8)"
      ]
     },
     "execution_count": 12,
     "metadata": {},
     "output_type": "execute_result"
    }
   ],
   "source": [
    "from sklearn.decomposition import PCA\n",
    "\n",
    "pca = PCA (n_components=0.90)\n",
    "new_df1_pca = pca.fit_transform(new_df1)\n",
    "\n",
    "new_df1_pca.shape"
   ]
  },
  {
   "cell_type": "code",
   "execution_count": 14,
   "metadata": {},
   "outputs": [
    {
     "name": "stderr",
     "output_type": "stream",
     "text": [
      "c:\\Users\\panzh\\anaconda3\\lib\\site-packages\\sklearn\\manifold\\_t_sne.py:780: FutureWarning: The default initialization in TSNE will change from 'random' to 'pca' in 1.2.\n",
      "  warnings.warn(\n"
     ]
    },
    {
     "data": {
      "text/plain": [
       "(6321, 3)"
      ]
     },
     "execution_count": 14,
     "metadata": {},
     "output_type": "execute_result"
    }
   ],
   "source": [
    "from sklearn.manifold import TSNE\n",
    "\n",
    "tsne = TSNE(n_components=3, random_state=42, learning_rate= 400)\n",
    "tsne_features = tsne.fit_transform(new_df1_pca)\n",
    "tsne_features.shape"
   ]
  },
  {
   "cell_type": "code",
   "execution_count": 18,
   "metadata": {},
   "outputs": [
    {
     "data": {
      "image/png": "[encoded data removed]",
      "text/plain": [
       "<Figure size 432x288 with 1 Axes>"
      ]
     },
     "metadata": {
      "needs_background": "light"
     },
     "output_type": "display_data"
    }
   ],
   "source": [
    "from sklearn.cluster import KMeans\n",
    "inertia =[]\n",
    "k = list (range(1,11))\n",
    "\n",
    "for i in k:\n",
    "    km = KMeans (n_clusters=i, random_state= 0)\n",
    "    km.fit (new_df1_pca)\n",
    "    inertia.append (km.inertia_)\n",
    "\n",
    "elbow_data = {\"k\": k, \"inertia\": inertia}\n",
    "df_elbow = pd.DataFrame(elbow_data)\n",
    "\n",
    "plt.plot (df_elbow['k'], df_elbow['inertia'])\n",
    "plt.xticks(range(1,11))\n",
    "plt.xlabel('Number of clusters (K)')\n",
    "plt.ylabel('Inertia')\n",
    "plt.title('Bidder_ID Elbow Curve')\n",
    "plt.show()"
   ]
  }
 ],
 "metadata": {
  "kernelspec": {
   "display_name": "base",
   "language": "python",
   "name": "python3"
  },
  "language_info": {
   "codemirror_mode": {
    "name": "ipython",
    "version": 3
   },
   "file_extension": ".py",
   "mimetype": "text/x-python",
   "name": "python",
   "nbconvert_exporter": "python",
   "pygments_lexer": "ipython3",
   "version": "3.9.12"
  },
  "orig_nbformat": 4,
  "vscode": {
   "interpreter": {
    "hash": "55c71381e32fd971460c3af3b7aa7e5fbdb5dbd4076fc58f49c4639453d5ee83"
   }
  }
 },
 "nbformat": 4,
 "nbformat_minor": 2
}
